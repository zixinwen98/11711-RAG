{
 "cells": [
  {
   "cell_type": "markdown",
   "metadata": {},
   "source": [
    "# LTI faculty"
   ]
  },
  {
   "cell_type": "code",
   "execution_count": 73,
   "metadata": {},
   "outputs": [],
   "source": [
    "import pandas as pd\n",
    "urls = [r'https://lti.cs.cmu.edu/directory/all/154/1?page=0', r'https://lti.cs.cmu.edu/directory/all/154/1?page=1']\n",
    "datas = []\n",
    "for url in urls:\n",
    "    tables = pd.read_html(url) # Returns list of all tables on page\n",
    "    datas.append(tables[0]) # Select table of interest\n"
   ]
  },
  {
   "cell_type": "code",
   "execution_count": 83,
   "metadata": {},
   "outputs": [],
   "source": [
    "import numpy as np \n",
    "def parse_person_info(a):\n",
    "    try:\n",
    "        if np.isnan(a):\n",
    "            return dict()\n",
    "    except:\n",
    "        pass\n",
    "    \n",
    "    data_dict = dict()\n",
    "    names = ['Email', 'Office', 'Phone', 'Research Areas']\n",
    "    idx = []\n",
    "    for name in names: \n",
    "        try:\n",
    "            idx.append(a.index(name))\n",
    "        except:\n",
    "            pass\n",
    "    idx = list(sorted(idx))\n",
    "    \n",
    "    #parse first & second name \n",
    "    name_and_title = a[:idx[0]]\n",
    "    name = ' '.join(name_and_title.split(' ')[:2])\n",
    "    title = ' '.join(name_and_title.split(' ')[2:])\n",
    "    data_dict['Name'] = name \n",
    "    data_dict['Title'] = title.strip()\n",
    "    #parse other info\n",
    "    for i in range(len(idx)):\n",
    "        if i == len(idx) - 1:\n",
    "            first, second = idx[i], len(a)\n",
    "        else:\n",
    "            first, second = idx[i], idx[i+1] \n",
    "        s = a[first:second]\n",
    "        s = s.split(':')\n",
    "        data_dict[s[0]] = s[1].strip()\n",
    "    \n",
    "    for name in names:\n",
    "        if name not in data_dict:\n",
    "            data_dict[name] = None\n",
    "    return data_dict\n"
   ]
  },
  {
   "cell_type": "code",
   "execution_count": 105,
   "metadata": {},
   "outputs": [],
   "source": [
    "#dict version \n",
    "lti_faculty = []\n",
    "for data in datas:\n",
    "    for d in data.values:\n",
    "        for info in d:\n",
    "            info_dict = parse_person_info(info)\n",
    "            if info_dict:\n",
    "                lti_faculty.append(info_dict)"
   ]
  },
  {
   "cell_type": "code",
   "execution_count": 106,
   "metadata": {},
   "outputs": [],
   "source": [
    "lti_faculty = []\n",
    "for data in datas:\n",
    "    for d in data.values:\n",
    "        for info in d:\n",
    "            try:\n",
    "                if np.isnan(info):\n",
    "                    pass\n",
    "            except:\n",
    "                lti_faculty.append(info)"
   ]
  },
  {
   "cell_type": "code",
   "execution_count": 107,
   "metadata": {},
   "outputs": [],
   "source": [
    "import json \n",
    "with open('/zfsauton2/home/yifuc/11711-RAG/data/cmu/lti_faculty.json', 'w') as f:\n",
    "    json.dump(lti_faculty, f)"
   ]
  },
  {
   "cell_type": "markdown",
   "metadata": {},
   "source": [
    "# LTI Staff"
   ]
  },
  {
   "cell_type": "code",
   "execution_count": 108,
   "metadata": {},
   "outputs": [],
   "source": [
    "import pandas as pd\n",
    "urls = [r'https://lti.cs.cmu.edu/directory/all/154/2?page=0', r'https://lti.cs.cmu.edu/directory/all/154/2?page=1']\n",
    "datas = []\n",
    "for url in urls:\n",
    "    tables = pd.read_html(url) # Returns list of all tables on page\n",
    "    datas.append(tables[0]) # Select table of interest\n"
   ]
  },
  {
   "cell_type": "code",
   "execution_count": 109,
   "metadata": {},
   "outputs": [],
   "source": [
    "lti_staff = []\n",
    "for data in datas:\n",
    "    for d in data.values:\n",
    "        for info in d:\n",
    "            try:\n",
    "                if np.isnan(info):\n",
    "                    pass\n",
    "            except:\n",
    "                lti_staff.append(info)"
   ]
  },
  {
   "cell_type": "code",
   "execution_count": 111,
   "metadata": {},
   "outputs": [
    {
     "data": {
      "text/plain": [
       "33"
      ]
     },
     "execution_count": 111,
     "metadata": {},
     "output_type": "execute_result"
    }
   ],
   "source": [
    "len(lti_staff)"
   ]
  },
  {
   "cell_type": "code",
   "execution_count": 112,
   "metadata": {},
   "outputs": [],
   "source": [
    "import json \n",
    "with open('/zfsauton2/home/yifuc/11711-RAG/data/cmu/lti_staff.json', 'w') as f:\n",
    "    json.dump(lti_staff, f)"
   ]
  },
  {
   "cell_type": "markdown",
   "metadata": {},
   "source": [
    "# LTI student (ignore now)"
   ]
  },
  {
   "cell_type": "code",
   "execution_count": 113,
   "metadata": {},
   "outputs": [],
   "source": [
    "import pandas as pd\n",
    "urls = [r'https://lti.cs.cmu.edu/directory/students/current/all']\n",
    "datas = []\n",
    "for url in urls:\n",
    "    tables = pd.read_html(url) # Returns list of all tables on page\n",
    "    datas.append(tables[0]) # Select table of interest\n"
   ]
  },
  {
   "cell_type": "code",
   "execution_count": 114,
   "metadata": {},
   "outputs": [],
   "source": [
    "lti_student = []\n",
    "for data in datas:\n",
    "    for d in data.values:\n",
    "        for info in d:\n",
    "            try:\n",
    "                if np.isnan(info):\n",
    "                    pass\n",
    "            except:\n",
    "                lti_student.append(info)"
   ]
  },
  {
   "cell_type": "markdown",
   "metadata": {},
   "source": [
    "# LTI Faculty paper"
   ]
  },
  {
   "cell_type": "code",
   "execution_count": null,
   "metadata": {},
   "outputs": [],
   "source": [
    "import requests"
   ]
  },
  {
   "cell_type": "code",
   "execution_count": 58,
   "metadata": {},
   "outputs": [],
   "source": [
    "def is_cmu(faculty, threshold = 0.7):\n",
    "    total = 0\n",
    "    cs = 0\n",
    "    for p in faculty['papers']:\n",
    "        total += 1\n",
    "        if p['fieldsOfStudy'] is not None and 'Computer Science' in p['fieldsOfStudy']:\n",
    "            cs += 1\n",
    "    if total == 0:\n",
    "        return False\n",
    "    return cs/total >= threshold\n"
   ]
  },
  {
   "cell_type": "code",
   "execution_count": 59,
   "metadata": {},
   "outputs": [],
   "source": [
    "def extract_paper_info(faculty):\n",
    "    papers = faculty['papers']\n",
    "    paper_info = []\n",
    "    for p in papers:\n",
    "        paper_string = ''\n",
    "        paper_string += f'Author: {faculty[\"name\"]} '\n",
    "        paper_string += f'Title: {p[\"title\"]} '\n",
    "        paper_string += f'Publication year: {p[\"year\"]} '\n",
    "        paper_info.append(paper_string)\n",
    "    return paper_info"
   ]
  },
  {
   "cell_type": "code",
   "execution_count": 60,
   "metadata": {},
   "outputs": [],
   "source": [
    "faculty = json.load(open('/zfsauton2/home/yifuc/11711-RAG/data/cmu/lti_faculty.json'))"
   ]
  },
  {
   "cell_type": "code",
   "execution_count": 61,
   "metadata": {},
   "outputs": [],
   "source": [
    "faculty_names = [s.split(' ')[:2] for s in faculty]"
   ]
  },
  {
   "cell_type": "code",
   "execution_count": 63,
   "metadata": {},
   "outputs": [],
   "source": [
    "publications = []\n",
    "for faculty_name in faculty_names:\n",
    "    if faculty_name[0] != \"Eric\":\n",
    "        name_str = faculty_name[0]+ '+' +faculty_name[1]\n",
    "        name_str = name_str.lower()\n",
    "    else:\n",
    "        name_str = 'eric+xing' #hardcode for eric ;)\n",
    "    url = f'https://api.semanticscholar.org/graph/v1/author/search?query={name_str}&fields=name,aliases,url,affiliations,papers.title,papers.year,papers.fieldsOfStudy'\n",
    "    faculty_list = requests.get(url).json()['data']\n",
    "    for f in faculty_list:\n",
    "        if is_cmu(f):\n",
    "            publications.extend(extract_paper_info(f))"
   ]
  },
  {
   "cell_type": "code",
   "execution_count": 65,
   "metadata": {},
   "outputs": [],
   "source": [
    "import json \n",
    "with open('/zfsauton2/home/yifuc/11711-RAG/data/cmu/faculty_publication.json', 'w') as f:\n",
    "    json.dump(publications, f)"
   ]
  },
  {
   "cell_type": "markdown",
   "metadata": {},
   "source": [
    "# CMU Schedule of class"
   ]
  },
  {
   "cell_type": "code",
   "execution_count": 74,
   "metadata": {},
   "outputs": [],
   "source": [
    "\n",
    "import pandas as pd\n",
    "urls = [r'https://enr-apps.as.cmu.edu/assets/SOC/sched_layout_spring.htm', r'https://enr-apps.as.cmu.edu/assets/SOC/sched_layout_summer_1.htm', r'https://enr-apps.as.cmu.edu/assets/SOC/sched_layout_summer_2.htm', r'https://enr-apps.as.cmu.edu/assets/SOC/sched_layout_fall.htm']\n",
    "datas = []\n",
    "for url in urls:\n",
    "    tables = pd.read_html(url) # Returns list of all tables on page\n",
    "    datas.append(tables[0]) # Select table of interest\n",
    "order = ['Spring', 'Summer 1/Summer All', 'Summer 2', 'Fall']"
   ]
  },
  {
   "cell_type": "code",
   "execution_count": 75,
   "metadata": {},
   "outputs": [
    {
     "name": "stderr",
     "output_type": "stream",
     "text": [
      "/tmp/ipykernel_3199717/2657013349.py:10: FutureWarning: DataFrame.fillna with 'method' is deprecated and will raise in a future version. Use obj.ffill() or obj.bfill() instead.\n",
      "  table.fillna(method='ffill', inplace=True)\n",
      "/tmp/ipykernel_3199717/2657013349.py:10: FutureWarning: DataFrame.fillna with 'method' is deprecated and will raise in a future version. Use obj.ffill() or obj.bfill() instead.\n",
      "  table.fillna(method='ffill', inplace=True)\n",
      "/tmp/ipykernel_3199717/2657013349.py:10: FutureWarning: DataFrame.fillna with 'method' is deprecated and will raise in a future version. Use obj.ffill() or obj.bfill() instead.\n",
      "  table.fillna(method='ffill', inplace=True)\n",
      "/tmp/ipykernel_3199717/2657013349.py:10: FutureWarning: DataFrame.fillna with 'method' is deprecated and will raise in a future version. Use obj.ffill() or obj.bfill() instead.\n",
      "  table.fillna(method='ffill', inplace=True)\n"
     ]
    }
   ],
   "source": [
    "courses = []\n",
    "for table, semester in zip(datas, order):\n",
    "    #drop first row and last column\n",
    "    table = table.iloc[1:, :-1]\n",
    "    table.columns = table.iloc[0]\n",
    "    table = table.iloc[1:, :]\n",
    "\n",
    "    #exclude rows where location and title is nan\n",
    "    table = table[table['Location'].notna() | table['Title'].notna()]\n",
    "    table.fillna(method='ffill', inplace=True)\n",
    "    table.reset_index(inplace=True, drop=True)\n",
    "\n",
    "    for i in range(len(table)):\n",
    "        course_info = table.iloc[i].to_dict()\n",
    "        s = semester + ' offering: '\n",
    "        for k, v in course_info.items():\n",
    "            s += f'{k}: {v} '\n",
    "        courses.append(s)\n",
    "    \n"
   ]
  },
  {
   "cell_type": "code",
   "execution_count": 77,
   "metadata": {},
   "outputs": [],
   "source": [
    "import json \n",
    "with open('/zfsauton2/home/yifuc/11711-RAG/data/cmu/course_schedule.json', 'w') as f:\n",
    "    json.dump(courses, f)"
   ]
  },
  {
   "cell_type": "markdown",
   "metadata": {},
   "source": [
    "# CMU Academic calendar"
   ]
  },
  {
   "cell_type": "code",
   "execution_count": 19,
   "metadata": {},
   "outputs": [],
   "source": [
    "import pandas as pd \n",
    "semesters = ['Fall 2023', 'Spring 2024', 'Summer One_All 2024', 'Summer Two 2024']\n",
    "events = []\n",
    "for semester in semesters:\n",
    "    df = pd.read_excel(f'/zfsauton2/home/yifuc/11711-RAG/data/cmu/raw/{semester}.xlsx')\n",
    "    for i in range(len(df)):\n",
    "        date_dict = df.iloc[i].to_dict()\n",
    "        #convert timestamp to string and remove hour, minute, and second\n",
    "        date1 = date_dict['Date'].strftime('%Y-%m-%d')\n",
    "        date2 = date_dict['Date2']\n",
    "        #check for consecutive date\n",
    "        if not str(date2) == 'nan' and not str(date2) == 'NaT':\n",
    "            date2 = date2.strftime('%Y-%m-%d')\n",
    "            date = f'{date1}-{date2}'\n",
    "        else:\n",
    "            date = date1\n",
    "        #create date string \n",
    "        date_string = f'Date: {date}'\n",
    "        for k, v in date_dict.items():\n",
    "            if k not in ['Date', 'Date2', '-']:\n",
    "                date_string += f' {k}: {v}'\n",
    "        date_string = semester + ': ' + date_string\n",
    "        events.append(date_string)"
   ]
  },
  {
   "cell_type": "code",
   "execution_count": 21,
   "metadata": {},
   "outputs": [],
   "source": [
    "import json \n",
    "with open('/zfsauton2/home/yifuc/11711-RAG/data/cmu/university_calendar.json', 'w') as f:\n",
    "    json.dump(events, f)"
   ]
  }
 ],
 "metadata": {
  "kernelspec": {
   "display_name": "llama_hw",
   "language": "python",
   "name": "python3"
  },
  "language_info": {
   "codemirror_mode": {
    "name": "ipython",
    "version": 3
   },
   "file_extension": ".py",
   "mimetype": "text/x-python",
   "name": "python",
   "nbconvert_exporter": "python",
   "pygments_lexer": "ipython3",
   "version": "3.11.7"
  }
 },
 "nbformat": 4,
 "nbformat_minor": 2
}
