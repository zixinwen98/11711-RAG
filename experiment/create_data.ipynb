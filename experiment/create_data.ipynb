{
 "cells": [
  {
   "cell_type": "markdown",
   "metadata": {},
   "source": [
    "# LTI faculty"
   ]
  },
  {
   "cell_type": "code",
   "execution_count": 45,
   "metadata": {},
   "outputs": [],
   "source": [
    "import pandas as pd\n",
    "urls = [r'https://lti.cs.cmu.edu/directory/all/154/1?page=0', r'https://lti.cs.cmu.edu/directory/all/154/1?page=1']\n",
    "datas = []\n",
    "for url in urls:\n",
    "    tables = pd.read_html(url) # Returns list of all tables on page\n",
    "    datas.append(tables[0]) # Select table of interest\n"
   ]
  },
  {
   "cell_type": "code",
   "execution_count": 46,
   "metadata": {},
   "outputs": [],
   "source": [
    "import numpy as np \n",
    "def parse_person_info(a):\n",
    "    try:\n",
    "        if np.isnan(a):\n",
    "            return dict()\n",
    "    except:\n",
    "        pass\n",
    "    \n",
    "    data_dict = dict()\n",
    "    names = ['Email', 'Office', 'Phone', 'Research Areas']\n",
    "    idx = []\n",
    "    for name in names: \n",
    "        try:\n",
    "            idx.append(a.index(name))\n",
    "        except:\n",
    "            pass\n",
    "    idx = list(sorted(idx))\n",
    "    \n",
    "    #parse first & second name \n",
    "    name_and_title = a[:idx[0]]\n",
    "    name = ' '.join(name_and_title.split(' ')[:2])\n",
    "    title = ' '.join(name_and_title.split(' ')[2:])\n",
    "    data_dict['Name'] = name \n",
    "    data_dict['Title'] = title.strip()\n",
    "    #parse other info\n",
    "    for i in range(len(idx)):\n",
    "        if i == len(idx) - 1:\n",
    "            first, second = idx[i], len(a)\n",
    "        else:\n",
    "            first, second = idx[i], idx[i+1] \n",
    "        s = a[first:second]\n",
    "        s = s.split(':')\n",
    "        data_dict[s[0]] = s[1].strip()\n",
    "    \n",
    "    for name in names:\n",
    "        if name not in data_dict:\n",
    "            data_dict[name] = None\n",
    "    return data_dict\n"
   ]
  },
  {
   "cell_type": "code",
   "execution_count": 105,
   "metadata": {},
   "outputs": [],
   "source": [
    "#dict version \n",
    "lti_faculty = []\n",
    "for data in datas:\n",
    "    for d in data.values:\n",
    "        for info in d:\n",
    "            info_dict = parse_person_info(info)\n",
    "            if info_dict:\n",
    "                lti_faculty.append(info_dict)"
   ]
  },
  {
   "cell_type": "code",
   "execution_count": 47,
   "metadata": {},
   "outputs": [],
   "source": [
    "lti_faculty = []\n",
    "for data in datas:\n",
    "    for d in data.values:\n",
    "        for info in d:\n",
    "            try:\n",
    "                if np.isnan(info):\n",
    "                    pass\n",
    "            except:\n",
    "                lti_faculty.append(info)"
   ]
  },
  {
   "cell_type": "code",
   "execution_count": 107,
   "metadata": {},
   "outputs": [],
   "source": [
    "import json \n",
    "with open('/zfsauton2/home/yifuc/11711-RAG/data/cmu/lti_faculty.json', 'w') as f:\n",
    "    json.dump(lti_faculty, f)"
   ]
  },
  {
   "cell_type": "markdown",
   "metadata": {},
   "source": [
    "# LTI Staff"
   ]
  },
  {
   "cell_type": "code",
   "execution_count": 108,
   "metadata": {},
   "outputs": [],
   "source": [
    "import pandas as pd\n",
    "urls = [r'https://lti.cs.cmu.edu/directory/all/154/2?page=0', r'https://lti.cs.cmu.edu/directory/all/154/2?page=1']\n",
    "datas = []\n",
    "for url in urls:\n",
    "    tables = pd.read_html(url) # Returns list of all tables on page\n",
    "    datas.append(tables[0]) # Select table of interest\n"
   ]
  },
  {
   "cell_type": "code",
   "execution_count": 109,
   "metadata": {},
   "outputs": [],
   "source": [
    "lti_staff = []\n",
    "for data in datas:\n",
    "    for d in data.values:\n",
    "        for info in d:\n",
    "            try:\n",
    "                if np.isnan(info):\n",
    "                    pass\n",
    "            except:\n",
    "                lti_staff.append(info)"
   ]
  },
  {
   "cell_type": "code",
   "execution_count": 111,
   "metadata": {},
   "outputs": [
    {
     "data": {
      "text/plain": [
       "33"
      ]
     },
     "execution_count": 111,
     "metadata": {},
     "output_type": "execute_result"
    }
   ],
   "source": [
    "len(lti_staff)"
   ]
  },
  {
   "cell_type": "code",
   "execution_count": 112,
   "metadata": {},
   "outputs": [],
   "source": [
    "import json \n",
    "with open('/zfsauton2/home/yifuc/11711-RAG/data/cmu/lti_staff.json', 'w') as f:\n",
    "    json.dump(lti_staff, f)"
   ]
  },
  {
   "cell_type": "markdown",
   "metadata": {},
   "source": [
    "# LTI student (ignore now)"
   ]
  },
  {
   "cell_type": "code",
   "execution_count": 113,
   "metadata": {},
   "outputs": [],
   "source": [
    "import pandas as pd\n",
    "urls = [r'https://lti.cs.cmu.edu/directory/students/current/all']\n",
    "datas = []\n",
    "for url in urls:\n",
    "    tables = pd.read_html(url) # Returns list of all tables on page\n",
    "    datas.append(tables[0]) # Select table of interest\n"
   ]
  },
  {
   "cell_type": "code",
   "execution_count": 114,
   "metadata": {},
   "outputs": [],
   "source": [
    "lti_student = []\n",
    "for data in datas:\n",
    "    for d in data.values:\n",
    "        for info in d:\n",
    "            try:\n",
    "                if np.isnan(info):\n",
    "                    pass\n",
    "            except:\n",
    "                lti_student.append(info)"
   ]
  },
  {
   "cell_type": "markdown",
   "metadata": {},
   "source": [
    "# LTI Faculty paper"
   ]
  },
  {
   "cell_type": "code",
   "execution_count": null,
   "metadata": {},
   "outputs": [],
   "source": [
    "import requests"
   ]
  },
  {
   "cell_type": "code",
   "execution_count": 58,
   "metadata": {},
   "outputs": [],
   "source": [
    "def is_cmu(faculty, threshold = 0.7):\n",
    "    total = 0\n",
    "    cs = 0\n",
    "    for p in faculty['papers']:\n",
    "        total += 1\n",
    "        if p['fieldsOfStudy'] is not None and 'Computer Science' in p['fieldsOfStudy']:\n",
    "            cs += 1\n",
    "    if total == 0:\n",
    "        return False\n",
    "    return cs/total >= threshold\n"
   ]
  },
  {
   "cell_type": "code",
   "execution_count": 59,
   "metadata": {},
   "outputs": [],
   "source": [
    "def extract_paper_info(faculty):\n",
    "    papers = faculty['papers']\n",
    "    paper_info = []\n",
    "    for p in papers:\n",
    "        paper_string = ''\n",
    "        paper_string += f'Author: {faculty[\"name\"]} '\n",
    "        paper_string += f'Title: {p[\"title\"]} '\n",
    "        paper_string += f'Publication year: {p[\"year\"]} '\n",
    "        paper_info.append(paper_string)\n",
    "    return paper_info"
   ]
  },
  {
   "cell_type": "code",
   "execution_count": 60,
   "metadata": {},
   "outputs": [],
   "source": [
    "faculty = json.load(open('/zfsauton2/home/yifuc/11711-RAG/data/cmu/lti_faculty.json'))"
   ]
  },
  {
   "cell_type": "code",
   "execution_count": 61,
   "metadata": {},
   "outputs": [],
   "source": [
    "faculty_names = [s.split(' ')[:2] for s in faculty]"
   ]
  },
  {
   "cell_type": "code",
   "execution_count": 63,
   "metadata": {},
   "outputs": [],
   "source": [
    "publications = []\n",
    "for faculty_name in faculty_names:\n",
    "    if faculty_name[0] != \"Eric\":\n",
    "        name_str = faculty_name[0]+ '+' +faculty_name[1]\n",
    "        name_str = name_str.lower()\n",
    "    else:\n",
    "        name_str = 'eric+xing' #hardcode for eric ;)\n",
    "    url = f'https://api.semanticscholar.org/graph/v1/author/search?query={name_str}&fields=name,aliases,url,affiliations,papers.title,papers.year,papers.fieldsOfStudy'\n",
    "    faculty_list = requests.get(url).json()['data']\n",
    "    for f in faculty_list:\n",
    "        if is_cmu(f):\n",
    "            publications.extend(extract_paper_info(f))"
   ]
  },
  {
   "cell_type": "code",
   "execution_count": 65,
   "metadata": {},
   "outputs": [],
   "source": [
    "import json \n",
    "with open('/zfsauton2/home/yifuc/11711-RAG/data/cmu/faculty_publication.json', 'w') as f:\n",
    "    json.dump(publications, f)"
   ]
  },
  {
   "cell_type": "markdown",
   "metadata": {},
   "source": [
    "# CMU Schedule of class"
   ]
  },
  {
   "cell_type": "code",
   "execution_count": 74,
   "metadata": {},
   "outputs": [],
   "source": [
    "\n",
    "import pandas as pd\n",
    "urls = [r'https://enr-apps.as.cmu.edu/assets/SOC/sched_layout_spring.htm', r'https://enr-apps.as.cmu.edu/assets/SOC/sched_layout_summer_1.htm', r'https://enr-apps.as.cmu.edu/assets/SOC/sched_layout_summer_2.htm', r'https://enr-apps.as.cmu.edu/assets/SOC/sched_layout_fall.htm']\n",
    "datas = []\n",
    "for url in urls:\n",
    "    tables = pd.read_html(url) # Returns list of all tables on page\n",
    "    datas.append(tables[0]) # Select table of interest\n",
    "order = ['Spring', 'Summer 1/Summer All', 'Summer 2', 'Fall']"
   ]
  },
  {
   "cell_type": "code",
   "execution_count": 75,
   "metadata": {},
   "outputs": [
    {
     "name": "stderr",
     "output_type": "stream",
     "text": [
      "/tmp/ipykernel_3199717/2657013349.py:10: FutureWarning: DataFrame.fillna with 'method' is deprecated and will raise in a future version. Use obj.ffill() or obj.bfill() instead.\n",
      "  table.fillna(method='ffill', inplace=True)\n",
      "/tmp/ipykernel_3199717/2657013349.py:10: FutureWarning: DataFrame.fillna with 'method' is deprecated and will raise in a future version. Use obj.ffill() or obj.bfill() instead.\n",
      "  table.fillna(method='ffill', inplace=True)\n",
      "/tmp/ipykernel_3199717/2657013349.py:10: FutureWarning: DataFrame.fillna with 'method' is deprecated and will raise in a future version. Use obj.ffill() or obj.bfill() instead.\n",
      "  table.fillna(method='ffill', inplace=True)\n",
      "/tmp/ipykernel_3199717/2657013349.py:10: FutureWarning: DataFrame.fillna with 'method' is deprecated and will raise in a future version. Use obj.ffill() or obj.bfill() instead.\n",
      "  table.fillna(method='ffill', inplace=True)\n"
     ]
    }
   ],
   "source": [
    "courses = []\n",
    "for table, semester in zip(datas, order):\n",
    "    #drop first row and last column\n",
    "    table = table.iloc[1:, :-1]\n",
    "    table.columns = table.iloc[0]\n",
    "    table = table.iloc[1:, :]\n",
    "\n",
    "    #exclude rows where location and title is nan\n",
    "    table = table[table['Location'].notna() | table['Title'].notna()]\n",
    "    table.fillna(method='ffill', inplace=True)\n",
    "    table.reset_index(inplace=True, drop=True)\n",
    "\n",
    "    for i in range(len(table)):\n",
    "        course_info = table.iloc[i].to_dict()\n",
    "        s = semester + ' offering: '\n",
    "        for k, v in course_info.items():\n",
    "            s += f'{k}: {v} '\n",
    "        courses.append(s)\n",
    "    \n"
   ]
  },
  {
   "cell_type": "code",
   "execution_count": 77,
   "metadata": {},
   "outputs": [],
   "source": [
    "import json \n",
    "with open('/zfsauton2/home/yifuc/11711-RAG/data/cmu/course_schedule.json', 'w') as f:\n",
    "    json.dump(courses, f)"
   ]
  },
  {
   "cell_type": "markdown",
   "metadata": {},
   "source": [
    "# CMU Academic calendar"
   ]
  },
  {
   "cell_type": "code",
   "execution_count": null,
   "metadata": {},
   "outputs": [],
   "source": [
    "import pandas as pd \n",
    "semesters = ['Fall 2023', 'Spring 2024', 'Summer One_All 2024', 'Summer Two 2024']\n",
    "events = []\n",
    "for semester in semesters:\n",
    "    df = pd.read_excel(f'/zfsauton2/home/yifuc/11711-RAG/data/cmu/raw/{semester}.xlsx')\n",
    "    for i in range(len(df)):\n",
    "        date_dict = df.iloc[i].to_dict()\n",
    "        #convert timestamp to string and remove hour, minute, and second\n",
    "        date1 = date_dict['Date'].strftime('%Y-%m-%d')\n",
    "        date2 = date_dict['Date2']\n",
    "        #check for consecutive date\n",
    "        if not str(date2) == 'nan' and not str(date2) == 'NaT':\n",
    "            date2 = date2.strftime('%Y-%m-%d')\n",
    "            date = f'{date1}-{date2}'\n",
    "        else:\n",
    "            date = date1\n",
    "        #create date string \n",
    "        date_string = f'Date: {date}'\n",
    "        for k, v in date_dict.items():\n",
    "            if k not in ['Date', 'Date2', '-']:\n",
    "                date_string += f' {k}: {v}'\n",
    "        date_string = semester + ': ' + date_string\n",
    "        events.append(date_string)"
   ]
  },
  {
   "cell_type": "code",
   "execution_count": 21,
   "metadata": {},
   "outputs": [],
   "source": [
    "import json \n",
    "with open('/zfsauton2/home/yifuc/11711-RAG/data/cmu/university_calendar.json', 'w') as f:\n",
    "    json.dump(events, f)"
   ]
  },
  {
   "cell_type": "markdown",
   "metadata": {},
   "source": [
    "# LTI Academic"
   ]
  },
  {
   "cell_type": "code",
   "execution_count": 1,
   "metadata": {},
   "outputs": [
    {
     "name": "stderr",
     "output_type": "stream",
     "text": [
      "/tmp/ipykernel_521683/3081452667.py:1: DeprecationWarning: \n",
      "Pyarrow will become a required dependency of pandas in the next major release of pandas (pandas 3.0),\n",
      "(to allow more performant data types, such as the Arrow string type, and better interoperability with other libraries)\n",
      "but was not found to be installed on your system.\n",
      "If this would cause problems for you,\n",
      "please provide us feedback at https://github.com/pandas-dev/pandas/issues/54466\n",
      "        \n",
      "  import pandas as pd\n"
     ]
    }
   ],
   "source": [
    "import pandas as pd\n",
    "urls = [r'https://lti.cs.cmu.edu/learn']\n",
    "datas = []\n",
    "for url in urls:\n",
    "    tables = pd.read_html(url) # Returns list of all tables on page\n",
    "    datas.append(tables[0]) # Select table of interest\n"
   ]
  },
  {
   "cell_type": "code",
   "execution_count": 7,
   "metadata": {},
   "outputs": [],
   "source": [
    "url = r'https://lti.cs.cmu.edu/learn'\n",
    "#parse the first chunk of the html about phd program in lti \n",
    "import requests\n",
    "from bs4 import BeautifulSoup\n",
    "page = requests.get(url)\n",
    "soup = BeautifulSoup(page.content, 'html.parser')\n",
    "phd = soup.find_all('div', class_='field-item even')"
   ]
  },
  {
   "cell_type": "code",
   "execution_count": 12,
   "metadata": {},
   "outputs": [
    {
     "data": {
      "text/plain": [
       "'Carnegie Mellon\\'s School of Computer Science has a centralized online application process. Applications and all supporting documentation for fall admission to any of the LTI\\'s graduate programs must be received by the application deadline. Incomplete applications will not be considered. The application period for Fall 2024 will open on September 6, 2023.\\nFinal Application Deadline\\nDecember 13, 2023 at 3 p.m. EST.\\nCost\\n$100 per program and $80 if the applicant applies before November 29, 2023 at 3 p.m. EST (early deadline).\\nFee Waivers\\nFee waivers may be available in cases of financial hardship. For more information, please refer to the\\xa0School of Computer Science Fee Waiver page.\\nRequirements\\nThe School of Computer Science requires the following for all Ph.D. applications.\\nGRE scores:\\xa0GREs are now optional, but if you want to submit GRE scores:These must be less than five years old. The GRE Subject Test is not required, but is recommended. Our Institution Code is 2074; Department Code is 0402.\\nEnglish Proficiency Requirement:\\xa0If you will be studying on an F-1 or J-1 visa, and English is not a native language for you (native language…meaning spoken at home and from birth), an official copy of an English proficiency score report is required.\\xa0The English proficiency requirement cannot be waived for any reason.\\xa0Find more information under \"Test Scores\" on our\\xa0FAQ\\xa0page.\\nSuccessful applicants will have a minimum TOEFL score of 100. Our Institution Code is 4256; the Department Code is 78.\\nOfficial transcripts from each university you have attended, regardless of whether you received your degree there.\\nCurrent resume.\\nStatement of Purpose.\\nThree letters of recommendation.\\nFor more details on these requirements, please see the SCS Doctoral Admissions page.\\nIn addition to the SCS guidelines, the LTI requires:\\nA short (1-3 minute) video of yourself. There will be a prompt question that you will respond to. You will have three attempts.\\xa0This is not a required part of the application process, but it\\'s strongly suggested.\\nAny outside funding you are receiving must be accompanied by an official award letter.\\nNo incomplete applications will be eligible for consideration.\\nFor specific application/admissions questions, please contact\\xa0Stacey Young.\\n'"
      ]
     },
     "execution_count": 12,
     "metadata": {},
     "output_type": "execute_result"
    }
   ],
   "source": [
    "phd[3].text"
   ]
  },
  {
   "cell_type": "markdown",
   "metadata": {},
   "source": [
    "# SCS 25 great things and history"
   ]
  },
  {
   "cell_type": "code",
   "execution_count": 25,
   "metadata": {},
   "outputs": [
    {
     "name": "stdout",
     "output_type": "stream",
     "text": [
      "What’s so great about computer science at Carnegie Mellon?We're glad you asked! Here are 25 great ideas from CMU computer scientists to think about as we celebrate the birthday of the School of Computer Science.1. Artificial intelligence, 1955-56 Can you write a working computer program without a computer? Herb Simon (H’90), at left, Allen Newell (IA’57), at right, and Cliff Shaw did. The team created the first artificial intelligence program, Logic Theorist, which could solve logic puzzles in the same way that a human might solve them. Newell demonstrated that it worked by writing the instructions on 3-by-5 index cards that were manipulated on the kitchen table by Newell, his wife, and a group of Carnegie Tech grad students.\n",
      "2. Multi-core processors, 1971 Multi-core processors are common in today’s computers, but they were still science fiction in the early 1970s. But when CMU researchers found their existing machines too slow to keep pace with the advance of speech and graphics programs, they knew they had to do something. They solved the problem by ganging together 16 processors to build a pioneering computer called C.mmp—then topped the feat by linking 50 processors into Cm*.\n",
      "3. Tutoring machines, 1973Games and drills, such as flash cards, have long been used to help students learn tough subjects. But the cognitive tutoring programs developed at Carnegie Mellon, beginning in the 1970s, did more than simply drill students on math problems. Cognitive tutors were able to adapt, presenting harder or easier problems as students learned or stumbled. Today, cognitive tutors teach subjects such as algebra to hundreds of thousands of students every year. \n",
      "4. Speech recognition, 1976If you have an iPhone, ask Siri to look up “Hearsay I,” the first computer system capable of continuous speech recognition. It was developed by future Turing Award winner and future SCS dean Raj Reddy along with his students. Their work on subsequent systems established many of the principles that still underlie speech recognition software.\n",
      "5. Emoticons, 1982Sure, it was just a joke, but (for better or worse) it’s endured for more than three decades. CMU researcher Scott Fahlman created the emoticon to clear up misunderstandings on computer message boards. We’ve been looking at the world sideways ever since. :-) \n",
      "6. Andrew project, 1982It was long the dream of computer scientists to put a workstation in every home and office, but no one had actually tried to accomplish it until researchers from Carnegie Mellon University and IBM launched the Andrew Project. Soon, every student, faculty member and employee had access to email, word processing, file-transfer services and graphics programs, and CMU was the most-wired campus in the world.\n",
      "7. Autonomous robots, 1983Thanks to Red Whittaker (E'75,'79), robots moved off of the assembly lines and into places no human ever could go. His Robotic Reconnaissance Vehicle spent four years inspecting and cleaning up the contaminated reactor building at the crippled Three Mile Island nuclear plant.\n",
      "8. User interfaces, 1983Why should humans adapt to fit computers? Shouldn’t computers adapt to fit humans? That was the attitude of CMU researchers, who applied design principles to computer science to develop better, easier-to-use interfaces. They called the new field “human-computer interaction.”\n",
      "9. Machine translation, 1984Every “Star Trek” fan knows about the universal translator. Scientists in the Language Technologies Institute are moving those gadgets from science fiction to real life. Their pioneering systems include handheld, portable speech-to-speech translators, just like those depicted on the USS Enterprise.\n",
      "10. Mach kernel, 1985In computer parlance, a “kernel” is the heart of an operating system, passing input and output requests to and from the processor. At the core of all modern Apple devices --- including iPhones, iPads and MacBooks --- is the Mach kernel, developed at CMU under the leadership of then-professor Rick Rashid.\n",
      "11. Computer chess, 1990Could a computer play chess at the level of the world’s best players? For many years, it was considered the “holy grail” of artificial intelligence. Hitech, developed by CMU researcher Hans Berliner (CS’74), was the first computer to achieve grandmaster status. CMU alumni played key roles in developing “Deep Blue,” the IBM machine that beat human chess champion Garry Kasparov in 1997.\n",
      "12. Java, 1991 As a CMU grad student, James Gosling (CS’83) worked on the Andrew project, which stressed interoperability between computers, whether they were Macs, IBMs or Unix machines. Those lessons served Gosling well when he developed Java, the first programming language able to run on almost any platform.\n",
      "13. Email attachments, 1992Steve Jobs liked the email system built into CMU’s Andrew so much that he tried to hire Nathaniel Borenstein (CS’81,’85) and the rest of his team to create a similar program for Apple. Borenstein didn’t take the offer, but he did like Jobs’ idea about attaching documents to email. Borenstein went on to develop the MIME standard that’s used by all email programs to send photos and other files over the Internet.\n",
      "14. Web search engines, 1994The World Wide Web was still in its toddler stage when CMU researcher Michael “Fuzzy” Mauldin (CS’83,’89) developed one of the first successful search engines, Lycos. It was the most-visited site on the Web by 1999.\n",
      "15. Model checking, 1994CMU professor Edmund Clarke had long stressed the importance of verifying computer hardware and software through a formal problem-solving technique called “model checking.” In 1994, his arguments gained new weight with the discovery that Intel’s amazing new Pentium chip made errors on certain math problems. Clarke would go on to receive the Turing Award for his role in the development of model checking. \n",
      "16. CAPTCHAs, 2000 “Spam” and malicious attacks were a growing problem on the Internet when hackers developed automated “bots” that could sign up for email and other Web services without human intervention. Luis von Ahn (CS’03,’05), Nick Hopper (CS’04), John Langford (CS’02) and CMU professor Manuel Blum invented a “Completely Automated Public Turing Test to tell Computers and Humans Apart,” or CAPTCHA, to help foil the bots. A later variation, reCAPTCHA, is helping digitize old books and newspapers.\n",
      "17. Robotic video cameras, 2001When Baltimore Ravens quarterback Trent Dilfer dropped back to pass, TV viewers of Super Bowl XXXV saw something they’d never seen before --- the motion froze and the view suddenly rotated to show Dilfer’s opposite side. CBS called it Eyevision. The synchronized system of robotic cameras and advanced image processing was the brainchild of CMU’s Takeo Kanade, one of many advances he pioneered in computer vision.\n",
      "18. Self-driving vehicles, 2007Carnegie Mellon’s early attempts at self-driving vehicles progressed slowly, creeping around Pittsburgh’s Schenley Park in the late 1990s. But they were going full-throttle by the time CMU’s self-driving SUV, named BOSS, won the 2007 DARPA Urban Challenge road race.\n",
      "19. Thought reading programs, 2007Your brain reacts in different ways, depending on what words you’re thinking about --- ways that are measurable with magnetic-resonance imaging, or MRI, machines. CMU researchers Tom Mitchell and Marcel Just are decoding those brain scans and are making progress at reading people’s thoughts.\n",
      "20. Kidney donor matching, 2008 Organ transplants save lives every day, but more people could likely be saved if it was easier to match recipients with donors who are unrelated. An algorithm developed by CMU scientists is close to enabling a nationwide network that would match living kidney donors with potential recipients whom they've never met in real life. \n",
      " 21. RNA sequencing via videogames, 2010 Thanks to crowdsourcing, science isn’t just for scientists any more. People without formal training in molecular biology are producing new insights into genetic encoding through a videogame called EteRNA, developed by researchers at CMU and Stanford, that allows players to fold and shift RNA molecules to solve on-screen puzzles.\n",
      "22. Language learning software, 2010Learning a second language has always been challenging, but a CMU spinoff called Duolingo is proving that it doesn’t have to be expensive. Duolingo has developed language tutoring software that enables users to learn Spanish, English, Italian, German, Portuguese or French for free through its website and mobile apps. In the process, Duolingo users are helping to translate the Web.\n",
      "23. Question-answering computers, 2011 Searching the Web for information is rarely as simple as asking a question in plain English. So-called “question-answering” machines moved from laboratories to TV screens when an IBM computer called “Watson” defeated two human champions on the game show “Jeopardy!” At the heart of Watson was computer architecture developed by CMU’s Eric Nyberg and his students.\n",
      " 24. Encrypting online information, 2012 Credit card numbers and other data used online is safer thanks to an encryption scheme developed by CMU alumna Shafi Goldwasser (S’79). She shared the 2012 Turing Award for her role in developing practical encoding schemes that are difficult to break.\n",
      " 25. Smart, adaptable traffic signals, 2012 Smart traffic lights developed at CMU’s Robotics Institute are saving time and energy, and cutting down on the amount of air pollution created by idling cars. First rolled out in Pittsburgh’s East Liberty neighborhood, the new signals are being studied around the country.\n"
     ]
    }
   ],
   "source": [
    "url = r'https://www.cs.cmu.edu/scs25/25things'\n",
    "#parse the whole webpage's text\n",
    "page = requests.get(url)\n",
    "soup = BeautifulSoup(page.content, 'html.parser')\n",
    "text = soup.get_text()\n",
    "text = \"\\n\".join(text.strip().split('\\n')[-25:])"
   ]
  },
  {
   "cell_type": "code",
   "execution_count": 26,
   "metadata": {},
   "outputs": [],
   "source": [
    "import json \n",
    "with open('/zfsauton2/home/yifuc/11711-RAG/data/cmu/scs_25_great_thing.json', 'w') as f:\n",
    "    json.dump([text], f)"
   ]
  },
  {
   "cell_type": "code",
   "execution_count": 30,
   "metadata": {},
   "outputs": [
    {
     "name": "stdout",
     "output_type": "stream",
     "text": [
      "A history of SCS | SCS25 - Carnegie Mellon University School of Computer Science\n",
      "For an expanded history of the School of Computer Science and its predecessors at CMU, read \"Institutional Memories\" in the Summer 2014 issue of The Link magazine.In 2014, the School of Computer Science celebrated its 25th year as a stand-alone college within Carnegie Mellon University. It was arguably the first college devoted solely to computer science in the United States, and a model for others that followed. But CMU’s computer science era begins much earlier—in 1956, with the arrival of an IBM 650 computer on the campus of what was then known as Carnegie Institute of Technology. The IBM 650 had magnetic-drum memory and a processing speed of approximately 60 instructions per second. Herb Simon (H’90), associate dean of the Graduate School of Industrial Administration—now known as CMU’s Tepper School of Business—established Carnegie Tech’s first Computation Center with the help of its first director, Alan Perlis (S’42).First freshman-level computer science courseIn 1956 and 1957, Simon, Allen Newell (IA’57) and Cliff Shaw of RAND designed the Logic Theorist, a computer program that could develop proofs for theorems in much the same way a human would work. They also developed linked-list data structures, the foundation of computer programming. Perlis, Simon and Newell are credited with defining the term “computer science” as “the theory and design of computers,” as well as (in Newell’s words) “the study of the phenomena arising from them.” In 1958, Perlis began teaching the first freshman-level computer programming course in the United States at Carnegie Tech.Computer science Ph.D. program createdIn 1961, the Computation Center and its newest computer, a Bendix G-20, were moved to recently completed Scaife Hall. That same year, Carnegie Tech created an interdisciplinary Ph.D. program called Systems and Communications Sciences, combining elements of computer science, mathematics, psychology, business and electrical engineering. The university’s first computer science Ph.D.s were graduates of this program.Computer Science Department establishedIn 1965, Carnegie Tech established its Computer Science Department, or CSD, with a $5 million grant from the R.K. Mellon Foundation. Perlis was the first department head. There were no undergraduates; only Ph.D. students were admitted, and the department’s focus was on research, much of it funded by the federal government through the Defense Department’s Advanced Research Projects Agency, or DARPA. In 1967, Carnegie Institute of Technology merged with the nearby Mellon Institute of Industrial Research to form Carnegie-Mellon University. The Department of Computer Science moved into the newly created Mellon Institute of Science, later renamed Mellon College of Science, or MCS. Future SCS dean Raj Reddy joined the CSD in 1969 after three years as an assistant professor at Stanford. He brought with him research in speech, language and computer vision. But in 1970 and 1971, the new Computer Science Department faced its first crisis, as half of its tenured faculty members—including department head Perlis—left for other universities. Joe Traub was recruited from Bell Labs to CMU to become the new department head.Multi-processor machines emergeCSD emerged from the brief crisis as a highly agile, interdisciplinary entity, with many new faculty members taking joint appointments with other CMU departments. Several large projects emerged in the Computer Science Department, including C.mmp, the first shared-memory multiprocessor computer, with 16 processing units, and Cm*, a 50-processor computer. These computers were the forerunners of today’s ubiquitous multi-core desktops and laptops.Turing Awards and a Nobel PrizeIn 1975, Simon and Newell were awarded the A.M. Turing Award for their work in artificial intelligence. (As of 2014, 12 CMU alumni or faculty have been awarded Turings, sometimes considered the Nobel Prize of computing.) Three years later, Simon received the Nobel Prize in Economics for his work on decision-making theory. As the 1970s progressed, Newell became interested in human-computer interaction, and began a long relationship with Xerox’s Palo Alto Research Center, or PARC, which released the Xerox Alto in 1973. Considered a forerunner to many of the computing environments that followed, Alto featured a graphical-user interface and was among the first commercially available workstations controlled with a mouse. Inspired by Alto, Reddy launched a drive for development of CMU’s own “three-M” machine—a personal workstation with a megabyte of memory, a megapixel display and at least one million instructions per second of processing power.Launching a Robotics InstituteIn 1979, an executive at Pittsburgh’s Westinghouse Electric Corp., Tom Murrin, collaborated with Jordan and Reddy to create the Robotics Institute, with Reddy as its first director. By 1982, the Computer Science Department included more than 30 faculty members and 100 graduate students.The best-wired campus in the worldWorking with IBM in the early 1980s, the university and the Computer Science Department established another new research frontier: Development of a high-speed computer network that would reach virtually every room on campus, along with a GUI-based computing environment, and providing networked PCs or workstations for 7,000 students, faculty members and employees. Called the Andrew Project, it turned Carnegie Mellon into the best-connected, most-wired university in the world—a process Newell called “greening up the campus with computer science.” CMU also became home to a new Software Engineering Institute, funded by the Defense Department, to study computer security and develop best practices in the design of operating systems. Between 1982 and 1985, the amount of sponsored research in the Computer Science Department doubled, from $7.2 million to $15.3 million—more than the other four departments in the Mellon College of Science combined.A “school of computer science” is proposedFeeling that CSD’s needs were inadequately represented in MCS, CSD head A. Nico Habermann and then-CMU provost Angel Jordan in 1986 wrote a white paper proposing the creation of “a School of Computer Science.” Responding to concerns from the faculty that the change might be taking place too quickly, the university first established a free-floating Department of Computer Science. The experiment, which lasted two years, was an unqualified success. Separately, and also in 1986, the Pittsburgh Supercomputing Center was created as a joint effort between CMU, the University of Pittsburgh and Westinghouse Electric Corp.SCS is officially formedCMU’s Faculty Senate in the fall of 1988 agreed to President Richard Cyert’s plan to elevate the Department of Computer Science to college status. In addition to the Computer Science Department, SCS also incorporated the Robotics Institute, the Center for Machine Translation, and researchers from the Information Technology Center, which had developed Andrew. On Dec. 13, 1988, Cyert (H’89) told faculty and staff that Habermann had been appointed CMU’s first Dean of Computer Science, effective Dec. 1, and that the School of Computer Science would soon begin operations. SCS made its formal debut on Dec. 22, 1988, with a reception in the Wherrett Room of Skibo Hall, CMU’s student union. The official announcement of CMU’s new “graduate School of Computer Science” was made Jan. 3, 1989.Undergraduate degrees beginFor several years, undergraduates interested in computer science pursued an “applied math/CS” bachelor’s degree offered by the Mathematics Department. CSD professor Mary Shaw (CS’72) led CMU’s first effort to design an undergraduate curriculum solely in computer science. She and her colleagues were guided by the Carnegie Plan—guidelines established in 1938 under Carnegie Tech President Robert Doherty (A’40, E’48, H’50), outlining the principles of a sound professional education. Drawing on Shaw’s plan and also on the work of other faculty members, an undergraduate program in computer science was created during the 1989-90 academic year. Seven CS majors were admitted to the program as sophomores. Another 73 undergraduates were admitted in 1990–91. By 1995, there were 401 undergraduates in the School of Computer Science; in fall 2013, more than 600 undergraduates made up about 37 percent of student enrollment at SCS, along with more than 600 master’s degree students.New departments, new areas of studyAlong the way, the Center for Machine Translation became the Language Technologies Institute, and other new departments were formed, including the Human-Computer Interaction Institute (1993), the Institute for Software Research (1999), the Machine Learning Department (2006) and the Ray and Stephanie Lane Center for Computational Biology (2009). SCS’s seven degree-granting departments draw faculty and students from a wide variety of disciplines, including engineering, mathematics, social sciences, linguistics and design.Committed to extending our founders’ visionThe School of Computer Science at Carnegie Mellon University enters its second quarter century as a world-leading educational and research institution, embracing all facets of computing. Its graduate programs are consisted ranked with the best in the world by a leading U.S. magazine, while its undergraduate programs are also rated the best in the U.S. by corporate recruiters. In 2013, SCS had 284 faculty members and a total student enrollment of nearly 1,700, including undergraduate, master’s and Ph.D. students, and conducted $124 million in research. Indeed, by itself, the Robotics Institute is the largest university robotics research group in the world, with more than 500 people and more than 100 ongoing research projects. A half-century ago, Perlis, Simon and Newell outlined a vision for computer science. The School of Computer Science at CMU remains committed to continuing and extending their vision in the context of big data and connected computing in the 21st century.\n"
     ]
    }
   ],
   "source": [
    "url = r'https://www.cs.cmu.edu/scs25/history'\n",
    "#parse the whole webpage's text\n",
    "page = requests.get(url)\n",
    "soup = BeautifulSoup(page.content, 'html.parser')\n",
    "text = soup.get_text()\n",
    "text = text.strip().split('\\n')[0] + '\\n' + text.strip().split('\\n')[-1]"
   ]
  },
  {
   "cell_type": "code",
   "execution_count": 31,
   "metadata": {},
   "outputs": [],
   "source": [
    "import json \n",
    "with open('/zfsauton2/home/yifuc/11711-RAG/data/cmu/scs_history.json', 'w') as f:\n",
    "    json.dump([text], f)"
   ]
  },
  {
   "cell_type": "markdown",
   "metadata": {},
   "source": [
    "# CMU Fact Sheet"
   ]
  },
  {
   "cell_type": "code",
   "execution_count": 35,
   "metadata": {},
   "outputs": [],
   "source": [
    "#use pypdf to parse an online pdf\n",
    "url = r'https://www.cmu.edu/about/cmu_fact_sheet_02.pdf'\n",
    "import io\n",
    "import requests\n",
    "from PyPDF2 import PdfReader\n",
    "headers = {'User-Agent': 'Mozilla/5.0 (X11; Windows; Windows x86_64) AppleWebKit/537.36 (KHTML, like Gecko) Chrome/103.0.5060.114 Safari/537.36'}\n",
    "\n",
    "response = requests.get(url=url, headers=headers, timeout=120)\n",
    "on_fly_mem_obj = io.BytesIO(response.content)\n",
    "pdf_file = PdfReader(on_fly_mem_obj)"
   ]
  },
  {
   "cell_type": "code",
   "execution_count": 41,
   "metadata": {},
   "outputs": [],
   "source": [
    "text = ''\n",
    "for p in pdf_file.pages:\n",
    "    text += p.extract_text()"
   ]
  },
  {
   "cell_type": "code",
   "execution_count": 43,
   "metadata": {},
   "outputs": [],
   "source": [
    "import json \n",
    "with open('/zfsauton2/home/yifuc/11711-RAG/data/cmu/fact_sheet.json', 'w') as f:\n",
    "    json.dump([text], f)"
   ]
  }
 ],
 "metadata": {
  "kernelspec": {
   "display_name": "llama_hw",
   "language": "python",
   "name": "python3"
  },
  "language_info": {
   "codemirror_mode": {
    "name": "ipython",
    "version": 3
   },
   "file_extension": ".py",
   "mimetype": "text/x-python",
   "name": "python",
   "nbconvert_exporter": "python",
   "pygments_lexer": "ipython3",
   "version": "3.11.7"
  }
 },
 "nbformat": 4,
 "nbformat_minor": 2
}
