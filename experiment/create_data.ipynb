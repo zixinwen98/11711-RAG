{
 "cells": [
  {
   "cell_type": "markdown",
   "metadata": {},
   "source": [
    "# LTI faculty"
   ]
  },
  {
   "cell_type": "code",
   "execution_count": 73,
   "metadata": {},
   "outputs": [],
   "source": [
    "import pandas as pd\n",
    "urls = [r'https://lti.cs.cmu.edu/directory/all/154/1?page=0', r'https://lti.cs.cmu.edu/directory/all/154/1?page=1']\n",
    "datas = []\n",
    "for url in urls:\n",
    "    tables = pd.read_html(url) # Returns list of all tables on page\n",
    "    datas.append(tables[0]) # Select table of interest\n"
   ]
  },
  {
   "cell_type": "code",
   "execution_count": 83,
   "metadata": {},
   "outputs": [],
   "source": [
    "import numpy as np \n",
    "def parse_person_info(a):\n",
    "    try:\n",
    "        if np.isnan(a):\n",
    "            return dict()\n",
    "    except:\n",
    "        pass\n",
    "    \n",
    "    data_dict = dict()\n",
    "    names = ['Email', 'Office', 'Phone', 'Research Areas']\n",
    "    idx = []\n",
    "    for name in names: \n",
    "        try:\n",
    "            idx.append(a.index(name))\n",
    "        except:\n",
    "            pass\n",
    "    idx = list(sorted(idx))\n",
    "    \n",
    "    #parse first & second name \n",
    "    name_and_title = a[:idx[0]]\n",
    "    name = ' '.join(name_and_title.split(' ')[:2])\n",
    "    title = ' '.join(name_and_title.split(' ')[2:])\n",
    "    data_dict['Name'] = name \n",
    "    data_dict['Title'] = title.strip()\n",
    "    #parse other info\n",
    "    for i in range(len(idx)):\n",
    "        if i == len(idx) - 1:\n",
    "            first, second = idx[i], len(a)\n",
    "        else:\n",
    "            first, second = idx[i], idx[i+1] \n",
    "        s = a[first:second]\n",
    "        s = s.split(':')\n",
    "        data_dict[s[0]] = s[1].strip()\n",
    "    \n",
    "    for name in names:\n",
    "        if name not in data_dict:\n",
    "            data_dict[name] = None\n",
    "    return data_dict\n"
   ]
  },
  {
   "cell_type": "code",
   "execution_count": 105,
   "metadata": {},
   "outputs": [],
   "source": [
    "#dict version \n",
    "lti_faculty = []\n",
    "for data in datas:\n",
    "    for d in data.values:\n",
    "        for info in d:\n",
    "            info_dict = parse_person_info(info)\n",
    "            if info_dict:\n",
    "                lti_faculty.append(info_dict)"
   ]
  },
  {
   "cell_type": "code",
   "execution_count": 106,
   "metadata": {},
   "outputs": [],
   "source": [
    "lti_faculty = []\n",
    "for data in datas:\n",
    "    for d in data.values:\n",
    "        for info in d:\n",
    "            try:\n",
    "                if np.isnan(info):\n",
    "                    pass\n",
    "            except:\n",
    "                lti_faculty.append(info)"
   ]
  },
  {
   "cell_type": "code",
   "execution_count": 107,
   "metadata": {},
   "outputs": [],
   "source": [
    "import json \n",
    "with open('/zfsauton2/home/yifuc/11711-RAG/data/cmu/lti_faculty.json', 'w') as f:\n",
    "    json.dump(lti_faculty, f)"
   ]
  },
  {
   "cell_type": "markdown",
   "metadata": {},
   "source": [
    "# LTI Staff"
   ]
  },
  {
   "cell_type": "code",
   "execution_count": 108,
   "metadata": {},
   "outputs": [],
   "source": [
    "import pandas as pd\n",
    "urls = [r'https://lti.cs.cmu.edu/directory/all/154/2?page=0', r'https://lti.cs.cmu.edu/directory/all/154/2?page=1']\n",
    "datas = []\n",
    "for url in urls:\n",
    "    tables = pd.read_html(url) # Returns list of all tables on page\n",
    "    datas.append(tables[0]) # Select table of interest\n"
   ]
  },
  {
   "cell_type": "code",
   "execution_count": 109,
   "metadata": {},
   "outputs": [],
   "source": [
    "lti_staff = []\n",
    "for data in datas:\n",
    "    for d in data.values:\n",
    "        for info in d:\n",
    "            try:\n",
    "                if np.isnan(info):\n",
    "                    pass\n",
    "            except:\n",
    "                lti_staff.append(info)"
   ]
  },
  {
   "cell_type": "code",
   "execution_count": 111,
   "metadata": {},
   "outputs": [
    {
     "data": {
      "text/plain": [
       "33"
      ]
     },
     "execution_count": 111,
     "metadata": {},
     "output_type": "execute_result"
    }
   ],
   "source": [
    "len(lti_staff)"
   ]
  },
  {
   "cell_type": "code",
   "execution_count": 112,
   "metadata": {},
   "outputs": [],
   "source": [
    "import json \n",
    "with open('/zfsauton2/home/yifuc/11711-RAG/data/cmu/lti_staff.json', 'w') as f:\n",
    "    json.dump(lti_staff, f)"
   ]
  },
  {
   "cell_type": "markdown",
   "metadata": {},
   "source": [
    "# LTI student (ignore now)"
   ]
  },
  {
   "cell_type": "code",
   "execution_count": 113,
   "metadata": {},
   "outputs": [],
   "source": [
    "import pandas as pd\n",
    "urls = [r'https://lti.cs.cmu.edu/directory/students/current/all']\n",
    "datas = []\n",
    "for url in urls:\n",
    "    tables = pd.read_html(url) # Returns list of all tables on page\n",
    "    datas.append(tables[0]) # Select table of interest\n"
   ]
  },
  {
   "cell_type": "code",
   "execution_count": 114,
   "metadata": {},
   "outputs": [],
   "source": [
    "lti_student = []\n",
    "for data in datas:\n",
    "    for d in data.values:\n",
    "        for info in d:\n",
    "            try:\n",
    "                if np.isnan(info):\n",
    "                    pass\n",
    "            except:\n",
    "                lti_student.append(info)"
   ]
  }
 ],
 "metadata": {
  "kernelspec": {
   "display_name": "llama_hw",
   "language": "python",
   "name": "python3"
  },
  "language_info": {
   "codemirror_mode": {
    "name": "ipython",
    "version": 3
   },
   "file_extension": ".py",
   "mimetype": "text/x-python",
   "name": "python",
   "nbconvert_exporter": "python",
   "pygments_lexer": "ipython3",
   "version": "3.11.7"
  }
 },
 "nbformat": 4,
 "nbformat_minor": 2
}
